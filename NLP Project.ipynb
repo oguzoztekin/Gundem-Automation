{
 "cells": [
  {
   "cell_type": "code",
   "execution_count": 1,
   "metadata": {},
   "outputs": [
    {
     "ename": "ModuleNotFoundError",
     "evalue": "No module named 'textSummarizer'",
     "output_type": "error",
     "traceback": [
      "\u001b[1;31m---------------------------------------------------------------------------\u001b[0m",
      "\u001b[1;31mModuleNotFoundError\u001b[0m                       Traceback (most recent call last)",
      "Cell \u001b[1;32mIn[1], line 9\u001b[0m\n\u001b[0;32m      7\u001b[0m \u001b[38;5;28;01mfrom\u001b[39;00m \u001b[38;5;21;01mstarlette\u001b[39;00m\u001b[38;5;21;01m.\u001b[39;00m\u001b[38;5;21;01mresponses\u001b[39;00m \u001b[38;5;28;01mimport\u001b[39;00m RedirectResponse\n\u001b[0;32m      8\u001b[0m \u001b[38;5;28;01mfrom\u001b[39;00m \u001b[38;5;21;01mfastapi\u001b[39;00m\u001b[38;5;21;01m.\u001b[39;00m\u001b[38;5;21;01mresponses\u001b[39;00m \u001b[38;5;28;01mimport\u001b[39;00m Response\n\u001b[1;32m----> 9\u001b[0m \u001b[38;5;28;01mfrom\u001b[39;00m \u001b[38;5;21;01mtextSummarizer\u001b[39;00m\u001b[38;5;21;01m.\u001b[39;00m\u001b[38;5;21;01mpipeline\u001b[39;00m\u001b[38;5;21;01m.\u001b[39;00m\u001b[38;5;21;01mprediction\u001b[39;00m \u001b[38;5;28;01mimport\u001b[39;00m PredictionPipeline\n\u001b[0;32m     12\u001b[0m text:\u001b[38;5;28mstr\u001b[39m \u001b[38;5;241m=\u001b[39m \u001b[38;5;124m\"\u001b[39m\u001b[38;5;124mWhat is Text Summarization?\u001b[39m\u001b[38;5;124m\"\u001b[39m\n\u001b[0;32m     14\u001b[0m app \u001b[38;5;241m=\u001b[39m FastAPI()\n",
      "\u001b[1;31mModuleNotFoundError\u001b[0m: No module named 'textSummarizer'"
     ]
    }
   ],
   "source": [
    "import requests\n",
    "from fastapi import FastAPI\n",
    "import uvicorn\n",
    "import sys\n",
    "import os\n",
    "from fastapi.templating import Jinja2Templates\n",
    "from starlette.responses import RedirectResponse\n",
    "from fastapi.responses import Response\n",
    "from textSummarizer.pipeline.prediction import PredictionPipeline\n",
    "\n",
    "\n",
    "text:str = \"What is Text Summarization?\"\n",
    "\n",
    "app = FastAPI()\n",
    "\n",
    "@app.get(\"/\", tags=[\"authentication\"])\n",
    "async def index():\n",
    "    return RedirectResponse(url=\"/docs\")\n",
    "\n",
    "\n",
    "\n",
    "@app.get(\"/train\")\n",
    "async def training():\n",
    "    try:\n",
    "        os.system(\"python main.py\")\n",
    "        return Response(\"Training successful !!\")\n",
    "\n",
    "    except Exception as e:\n",
    "        return Response(f\"Error Occurred! {e}\")\n",
    "    \n",
    "\n",
    "\n",
    "\n",
    "@app.post(\"/predict\")\n",
    "async def predict_route(text):\n",
    "    try:\n",
    "\n",
    "        obj = PredictionPipeline()\n",
    "        text = obj.predict(text)\n",
    "        return text\n",
    "    except Exception as e:\n",
    "        raise e\n",
    "    \n",
    "\n",
    "if __name__==\"__main__\":\n",
    "    uvicorn.run(app, host=\"0.0.0.0\", port=8080)\n"
   ]
  }
 ],
 "metadata": {
  "kernelspec": {
   "display_name": "Python 3",
   "language": "python",
   "name": "python3"
  },
  "language_info": {
   "codemirror_mode": {
    "name": "ipython",
    "version": 3
   },
   "file_extension": ".py",
   "mimetype": "text/x-python",
   "name": "python",
   "nbconvert_exporter": "python",
   "pygments_lexer": "ipython3",
   "version": "3.11.9"
  }
 },
 "nbformat": 4,
 "nbformat_minor": 2
}
